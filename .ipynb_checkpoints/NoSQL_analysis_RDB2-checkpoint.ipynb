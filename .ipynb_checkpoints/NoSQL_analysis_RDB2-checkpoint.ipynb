{
 "cells": [
  {
   "cell_type": "markdown",
   "id": "6ed5049d",
   "metadata": {},
   "source": [
    "# Eat Safe, Love"
   ]
  },
  {
   "cell_type": "markdown",
   "id": "b093e365",
   "metadata": {},
   "source": [
    "## Notebook Set Up"
   ]
  },
  {
   "cell_type": "code",
   "execution_count": 1,
   "id": "2cca5a19",
   "metadata": {},
   "outputs": [],
   "source": [
    "# Start gitbash and then copy to prompt (including quotes)\n",
    "# use 'condo activate PythonData' (doesn't run under Python 3 kernel)\n",
    "# \"C:\\Program Files\\MongoDB\\Server\\6.0\\bin\\mongod.exe\" --dbpath=\"c:\\data\\db\"     Include the quotes"
   ]
  },
  {
   "cell_type": "code",
   "execution_count": 2,
   "id": "7deb0d2d",
   "metadata": {},
   "outputs": [
    {
     "ename": "ModuleNotFoundError",
     "evalue": "No module named 'pymongo'",
     "output_type": "error",
     "traceback": [
      "\u001b[1;31m---------------------------------------------------------------------------\u001b[0m",
      "\u001b[1;31mModuleNotFoundError\u001b[0m                       Traceback (most recent call last)",
      "Cell \u001b[1;32mIn[2], line 2\u001b[0m\n\u001b[0;32m      1\u001b[0m \u001b[38;5;66;03m# Import dependencies\u001b[39;00m\n\u001b[1;32m----> 2\u001b[0m \u001b[38;5;28;01mimport\u001b[39;00m \u001b[38;5;21;01mpymongo\u001b[39;00m\n\u001b[0;32m      3\u001b[0m \u001b[38;5;28;01mfrom\u001b[39;00m \u001b[38;5;21;01mpymongo\u001b[39;00m \u001b[38;5;28;01mimport\u001b[39;00m MongoClient\n\u001b[0;32m      4\u001b[0m \u001b[38;5;28;01mfrom\u001b[39;00m \u001b[38;5;21;01mpprint\u001b[39;00m \u001b[38;5;28;01mimport\u001b[39;00m pprint\n",
      "\u001b[1;31mModuleNotFoundError\u001b[0m: No module named 'pymongo'"
     ]
    }
   ],
   "source": [
    "# Import dependencies\n",
    "import pymongo\n",
    "from pymongo import MongoClient\n",
    "from pprint import pprint\n",
    "import pandas as pd\n",
    "import re"
   ]
  },
  {
   "cell_type": "code",
   "execution_count": null,
   "id": "f8b8e8e2",
   "metadata": {},
   "outputs": [],
   "source": [
    "# Create an instance of MongoClient\n",
    "mongo = MongoClient(port=27017)"
   ]
  },
  {
   "cell_type": "code",
   "execution_count": null,
   "id": "995d6f16",
   "metadata": {},
   "outputs": [],
   "source": [
    "db = mongo['uk_food']\n",
    "print(db)"
   ]
  },
  {
   "cell_type": "code",
   "execution_count": null,
   "id": "1955d974",
   "metadata": {},
   "outputs": [],
   "source": [
    "# assign the uk_food database to a variable name\n",
    "qualityf = db.establishments.find()\n",
    "\n",
    "for q in qualityf:\n",
    "    print(q)"
   ]
  },
  {
   "cell_type": "code",
   "execution_count": null,
   "id": "ef74663c",
   "metadata": {},
   "outputs": [],
   "source": [
    "# review the collections in our database\n",
    "print(db.list_collection_names())"
   ]
  },
  {
   "cell_type": "code",
   "execution_count": null,
   "id": "31725daa",
   "metadata": {},
   "outputs": [],
   "source": [
    "# assign the collection to a variable\n",
    "ratings = db['establishments']"
   ]
  },
  {
   "cell_type": "markdown",
   "id": "9b5bdbbe",
   "metadata": {},
   "source": [
    "## Part 3: Exploratory Analysis\n",
    "Unless otherwise stated, for each question: \n",
    "* Use `count_documents` to display the number of documents contained in the result.\n",
    "* Display the first document in the results using `pprint`.\n",
    "* Convert the result to a Pandas DataFrame, print the number of rows in the DataFrame, and display the first 10 rows."
   ]
  },
  {
   "cell_type": "markdown",
   "id": "5b75d9dc",
   "metadata": {},
   "source": [
    "### 1. Which establishments have a hygiene score equal to 20?"
   ]
  },
  {
   "cell_type": "code",
   "execution_count": null,
   "id": "cd8fdf78",
   "metadata": {},
   "outputs": [],
   "source": [
    "# Find the establishments with a hygiene score of 20\n",
    "hygiene_query = {'scores.Hygiene': 20}\n",
    "results = ratings.find(hygiene_query)\n",
    "for r in results:\n",
    "    print(r)"
   ]
  },
  {
   "cell_type": "code",
   "execution_count": null,
   "id": "c2cf5a74",
   "metadata": {},
   "outputs": [],
   "source": [
    "# Use count_documents to display the number of documents in the result\n",
    "print(\"Number of establishments with a hygiene score of 20:\", ratings.count_documents(hygiene_query))\n",
    "print(\"Total establishments searched:\", ratings.count_documents({}))"
   ]
  },
  {
   "cell_type": "code",
   "execution_count": null,
   "id": "b81071d9",
   "metadata": {},
   "outputs": [],
   "source": [
    "results2 = list(ratings.find(hygiene_query))"
   ]
  },
  {
   "cell_type": "code",
   "execution_count": null,
   "id": "13d843ad",
   "metadata": {},
   "outputs": [],
   "source": [
    "# Display the first document in the results using pprint\n",
    "pprint(ratings.find_one(hygiene_query))"
   ]
  },
  {
   "cell_type": "code",
   "execution_count": null,
   "id": "91eb01c3",
   "metadata": {},
   "outputs": [],
   "source": [
    "# results2"
   ]
  },
  {
   "cell_type": "code",
   "execution_count": null,
   "id": "b9cf0bc9",
   "metadata": {},
   "outputs": [],
   "source": [
    "# Convert the result to a Pandas DataFrame\n",
    "results2_df = pd.DataFrame(results2)"
   ]
  },
  {
   "cell_type": "code",
   "execution_count": null,
   "id": "2afac11c",
   "metadata": {},
   "outputs": [],
   "source": [
    "# Display the number of rows in the DataFrame\n",
    "print(f\"There are\",len(results2_df),\"establishments with a hygiene score of 20.\")"
   ]
  },
  {
   "cell_type": "code",
   "execution_count": null,
   "id": "8f8f1ce9",
   "metadata": {},
   "outputs": [],
   "source": [
    "# Display the first 10 rows of the DataFrame\n",
    "results2_df.head(10)"
   ]
  },
  {
   "cell_type": "code",
   "execution_count": null,
   "id": "e228c943",
   "metadata": {},
   "outputs": [],
   "source": [
    "#query = {'$match': {'ratings.hygiene': {'$eq':20}}}"
   ]
  },
  {
   "cell_type": "code",
   "execution_count": null,
   "id": "7fe5975b",
   "metadata": {},
   "outputs": [],
   "source": [
    "#query = {'$match': {'ratings.hygiene': {'$eq':20}}}\n",
    "#fields = {\"_id\":1, \"BusinessName\":1, \"LocalAuthorityName\":1, \"Hygiene\":1}\n",
    "#sort = [('BusinessName',1)]\n",
    "#limit = 10\n",
    "#results2 = list(ratings.find(query,fields).sort(sort).limit(limit))"
   ]
  },
  {
   "cell_type": "code",
   "execution_count": null,
   "id": "db2456c1",
   "metadata": {},
   "outputs": [],
   "source": [
    "#pprint(list(ratings.find_one(hygiene_query)))\n",
    "#pprint(list(ratings.find(query, fields).sort(sort).limit(limit)))"
   ]
  },
  {
   "cell_type": "markdown",
   "id": "7c0cd426",
   "metadata": {},
   "source": [
    "### 2. Which establishments in London have a `RatingValue` greater than or equal to 4?"
   ]
  },
  {
   "cell_type": "code",
   "execution_count": null,
   "id": "16972ff9",
   "metadata": {},
   "outputs": [],
   "source": [
    "#qualityf2 = db.establishments.find()\n",
    "\n",
    "#for q in qualityf2:\n",
    "    #print(q)"
   ]
  },
  {
   "cell_type": "code",
   "execution_count": null,
   "id": "6d139e86",
   "metadata": {},
   "outputs": [],
   "source": [
    "# Convert the result to a Pandas DataFrame\n",
    "#results4_df = pd.DataFrame(qualityf2)"
   ]
  },
  {
   "cell_type": "code",
   "execution_count": null,
   "id": "cd581ad6",
   "metadata": {},
   "outputs": [],
   "source": [
    "#results4_df.head(3)"
   ]
  },
  {
   "cell_type": "code",
   "execution_count": null,
   "id": "bfd20335",
   "metadata": {},
   "outputs": [],
   "source": [
    "#query = {'LocalAuthorityCode': {'$regex': \"London\"}}\n",
    "\n",
    "#results = ratings.find(query)\n",
    "\n",
    "#for result in results:\n",
    "    #pprint(result)"
   ]
  },
  {
   "cell_type": "code",
   "execution_count": null,
   "id": "7b9f52b7",
   "metadata": {},
   "outputs": [],
   "source": [
    "#c = 'London.'\n",
    "#london_df[london_df['LocalAuthorityCode'].str.contains(c)]"
   ]
  },
  {
   "cell_type": "code",
   "execution_count": null,
   "id": "b8e1d980",
   "metadata": {},
   "outputs": [],
   "source": [
    "# Find the establishments with London as the Local Authority and has a RatingValue greater than or equal to 4.\n",
    "#query =\n",
    "\n",
    "# Use count_documents to display the number of documents in the result\n",
    "\n",
    "# Display the first document in the results using pprint\n"
   ]
  },
  {
   "cell_type": "code",
   "execution_count": null,
   "id": "6ba2282a",
   "metadata": {},
   "outputs": [],
   "source": [
    "#result_df = pd.DataFrame(results2)\n",
    "\n",
    "#print(len(result_df))\n",
    "#result_df.head(3)"
   ]
  },
  {
   "cell_type": "code",
   "execution_count": null,
   "id": "e5c5343b",
   "metadata": {},
   "outputs": [],
   "source": [
    "# Convert the result to a Pandas DataFrame\n",
    "\n",
    "# Display the number of rows in the DataFrame\n",
    "\n",
    "# Display the first 10 rows of the DataFrame\n"
   ]
  },
  {
   "cell_type": "markdown",
   "id": "a871d503",
   "metadata": {},
   "source": [
    "### 3. What are the top 5 establishments with a `RatingValue` rating value of '5', sorted by lowest hygiene score, nearest to the new restaurant added, \"Penang Flavours\"?"
   ]
  },
  {
   "cell_type": "code",
   "execution_count": null,
   "id": "9bc7fdf2",
   "metadata": {},
   "outputs": [],
   "source": [
    "# Search within 0.01 degree on either side of the latitude and longitude.\n",
    "# Rating value must equal 5\n",
    "# Sort by hygiene score\n",
    "\n",
    "# class video #2 at 2:18:35, 2:41:26\n",
    "\n",
    "#degree_search = 0.01\n",
    "#latitude = \n",
    "#longitude = \n",
    "\n",
    "#query = \n",
    "#sort =  \n",
    "\n",
    "# Print the results\n"
   ]
  },
  {
   "cell_type": "code",
   "execution_count": null,
   "id": "83d813c3",
   "metadata": {},
   "outputs": [],
   "source": [
    "# Convert result to Pandas DataFrame\n"
   ]
  },
  {
   "cell_type": "markdown",
   "id": "3e07194d",
   "metadata": {},
   "source": [
    "### 4. How many establishments in each Local Authority area have a hygiene score of 0?"
   ]
  },
  {
   "cell_type": "code",
   "execution_count": null,
   "id": "32b1048e",
   "metadata": {},
   "outputs": [],
   "source": [
    "# Create a pipeline that: \n",
    "# 1. Matches establishments with a hygiene score of 0\n",
    "# 2. Groups the matches by Local Authority\n",
    "# 3. Sorts the matches from highest to lowest\n",
    "\n",
    "# Print the number of documents in the result\n",
    "#result_df.count()\n",
    "# Print the first 10 results\n",
    "#result_df.head(10)"
   ]
  },
  {
   "cell_type": "code",
   "execution_count": null,
   "id": "353737de",
   "metadata": {},
   "outputs": [],
   "source": [
    "# Convert the result to a Pandas DataFrame\n",
    "\n",
    "# Display the number of rows in the DataFrame\n",
    "#result_df.count()\n",
    "# Display the first 10 rows of the DataFrame\n",
    "#result_df.head(10)"
   ]
  }
 ],
 "metadata": {
  "kernelspec": {
   "display_name": "PythonData",
   "language": "python",
   "name": "pythondata"
  },
  "language_info": {
   "codemirror_mode": {
    "name": "ipython",
    "version": 3
   },
   "file_extension": ".py",
   "mimetype": "text/x-python",
   "name": "python",
   "nbconvert_exporter": "python",
   "pygments_lexer": "ipython3",
   "version": "3.9.13"
  }
 },
 "nbformat": 4,
 "nbformat_minor": 5
}
